{
  "nbformat": 4,
  "nbformat_minor": 0,
  "metadata": {
    "colab": {
      "provenance": [],
      "authorship_tag": "ABX9TyMIWY/WXDC6lG2AW80quW90",
      "include_colab_link": true
    },
    "kernelspec": {
      "name": "python3",
      "display_name": "Python 3"
    },
    "language_info": {
      "name": "python"
    }
  },
  "cells": [
    {
      "cell_type": "markdown",
      "metadata": {
        "id": "view-in-github",
        "colab_type": "text"
      },
      "source": [
        "<a href=\"https://colab.research.google.com/github/shinchangyoung/python-algorithm-solutions/blob/main/%ED%8C%8C%EC%9D%B4%EC%8D%AC%ED%94%84%EB%A1%9C%EA%B7%B8%EB%9E%A8%EC%9D%91%EC%9A%A9/%ED%8A%9C%ED%94%8C.ipynb\" target=\"_parent\"><img src=\"https://colab.research.google.com/assets/colab-badge.svg\" alt=\"Open In Colab\"/></a>"
      ]
    },
    {
      "cell_type": "markdown",
      "source": [
        "튜플자료형"
      ],
      "metadata": {
        "id": "SS2MSR9Lp-UE"
      }
    },
    {
      "cell_type": "code",
      "source": [
        "# 튜플 만들기\n",
        "t1 = (1, )\n",
        "t2 = (1, 2, 3)\n",
        "t3 = 1, 2, 3\n",
        "t4 = (1, 2, (3, 4), ('Life', 'is'))\n",
        "t5 = (1, 3, 4 , ('light', 'left'),('toyo','nori'),(2,3))\n",
        "\n",
        "#튜플인덱싱\n",
        "#튜플인덱싱을 할 경우 ()가 아닌 []로 해야함\n",
        "print(t2[2])\n",
        "print(t3)\n",
        "print(t3[1])\n",
        "print(t5[3][0])\n",
        "print(t5[4][-1])\n",
        "print(t5[4][-2])\n",
        "print()\n",
        "\n",
        "#튜플 슬라이싱\n",
        "print(t4[1:3])\n",
        "print()\n",
        "\n",
        "# 튜플 연결\n",
        "print(t1 + t2)\n",
        "print()\n",
        "#튜플은 수정 불가능\n",
        "#print(t1 + \"hi~ ^^;\")\n",
        "\n",
        "# 튜플 반복\n",
        "print(t2 * 3)\n",
        "print()\n",
        "\n",
        "# 튜플 수정(불가능)\n",
        "#t2[2] = 99\n",
        "\n",
        "\n"
      ],
      "metadata": {
        "colab": {
          "base_uri": "https://localhost:8080/"
        },
        "id": "9IjPZkdrqFKH",
        "outputId": "470ea312-b5ce-4ce1-c962-842e861dac5f"
      },
      "execution_count": null,
      "outputs": [
        {
          "output_type": "stream",
          "name": "stdout",
          "text": [
            "3\n",
            "(1, 2, 3)\n",
            "2\n",
            "light\n",
            "nori\n",
            "toyo\n",
            "\n",
            "(2, (3, 4))\n",
            "\n",
            "(1, 1, 2, 3)\n",
            "\n",
            "(1, 2, 3, 1, 2, 3, 1, 2, 3)\n",
            "\n"
          ]
        }
      ]
    }
  ]
}