{
  "nbformat": 4,
  "nbformat_minor": 0,
  "metadata": {
    "colab": {
      "provenance": [],
      "authorship_tag": "ABX9TyMYgvphr7/CHNhb6PxAziTX",
      "include_colab_link": true
    },
    "kernelspec": {
      "name": "python3",
      "display_name": "Python 3"
    },
    "language_info": {
      "name": "python"
    }
  },
  "cells": [
    {
      "cell_type": "markdown",
      "metadata": {
        "id": "view-in-github",
        "colab_type": "text"
      },
      "source": [
        "<a href=\"https://colab.research.google.com/github/shinchangyoung/python-algorithm-solutions/blob/main/%ED%8C%8C%EC%9D%B4%EC%8D%AC%ED%94%84%EB%A1%9C%EA%B7%B8%EB%9E%A8%EC%9D%91%EC%9A%A9/%EC%A1%B0%EA%B1%B4%EB%AC%B8.ipynb\" target=\"_parent\"><img src=\"https://colab.research.google.com/assets/colab-badge.svg\" alt=\"Open In Colab\"/></a>"
      ]
    },
    {
      "cell_type": "markdown",
      "source": [
        "조건문"
      ],
      "metadata": {
        "id": "USvMdlSi9D5p"
      }
    },
    {
      "cell_type": "code",
      "source": [
        "# 비교 연산자\n",
        "x = 3\n",
        "y = 2\n",
        "print(x == y)\n",
        "print(x != y)\n",
        "print(x >= y)"
      ],
      "metadata": {
        "colab": {
          "base_uri": "https://localhost:8080/"
        },
        "id": "6tippMYz9Mbg",
        "outputId": "d4add092-027b-4fbc-98c7-78c41d34e932"
      },
      "execution_count": null,
      "outputs": [
        {
          "output_type": "stream",
          "name": "stdout",
          "text": [
            "False\n",
            "True\n",
            "True\n"
          ]
        }
      ]
    },
    {
      "cell_type": "code",
      "source": [
        "# 조건의 연결\n",
        "money = 2000\n",
        "if money >= 1200 and money < 3500:\n",
        "  print('버스를 탈 수 있습니다.')\n",
        "else:\n",
        "  print('요금이 이상하네요')\n",
        "\n",
        "money = 5000\n",
        "if money >= 1200 and money < 3500:\n",
        "  print('버스를 탈 수 있습니다.')\n",
        "else:\n",
        "  print('요금이 이상하네요')"
      ],
      "metadata": {
        "colab": {
          "base_uri": "https://localhost:8080/"
        },
        "id": "LNMq25sr9TYm",
        "outputId": "9f374c52-037f-4fd6-cfde-53e1b2510a7d"
      },
      "execution_count": null,
      "outputs": [
        {
          "output_type": "stream",
          "name": "stdout",
          "text": [
            "버스를 탈 수 있습니다.\n",
            "요금이 이상하네요\n"
          ]
        }
      ]
    },
    {
      "cell_type": "code",
      "source": [
        "# 그룹 자료형의 원소인지 검사하기\n",
        "print(1 in [1, 2, 3])\n",
        "print(x in [1, 2, 3])\n",
        "print(x not in [1, 2, 3])\n",
        "print('a' in ['a', 'b', 'c', 'd'])\n",
        "print('i' not in 'Python')\n",
        "print('t' in 'Python')\n",
        "print('k' in 'toyo')"
      ],
      "metadata": {
        "colab": {
          "base_uri": "https://localhost:8080/"
        },
        "id": "xmggt3R8-cmX",
        "outputId": "3ab2f993-2dff-4adf-a637-38c6b6972bf5"
      },
      "execution_count": null,
      "outputs": [
        {
          "output_type": "stream",
          "name": "stdout",
          "text": [
            "True\n",
            "True\n",
            "False\n",
            "True\n",
            "True\n",
            "True\n",
            "False\n"
          ]
        }
      ]
    },
    {
      "cell_type": "code",
      "source": [
        "# 아무 것도 하지 않게 설정\n",
        "money = 1\n",
        "if money < 10:\n",
        "  pass\n",
        "else:\n",
        "  print('저금하자!')\n",
        "\n",
        "\n",
        "money = 100\n",
        "if money < 10:\n",
        "  pass\n",
        "else:\n",
        "  print('저금하자!')"
      ],
      "metadata": {
        "colab": {
          "base_uri": "https://localhost:8080/"
        },
        "id": "aRmSleLo-suy",
        "outputId": "44a567a8-b160-4278-fccd-d323ef4a88ab"
      },
      "execution_count": null,
      "outputs": [
        {
          "output_type": "stream",
          "name": "stdout",
          "text": [
            "저금하자!\n"
          ]
        }
      ]
    }
  ]
}