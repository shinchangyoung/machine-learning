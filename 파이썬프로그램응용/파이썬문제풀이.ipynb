{
  "cells": [
    {
      "cell_type": "markdown",
      "metadata": {
        "id": "view-in-github",
        "colab_type": "text"
      },
      "source": [
        "<a href=\"https://colab.research.google.com/github/shinchangyoung/machine-learning/blob/main/%ED%8C%8C%EC%9D%B4%EC%8D%AC%EB%AC%B8%EC%A0%9C%ED%92%80%EC%9D%B4.ipynb\" target=\"_parent\"><img src=\"https://colab.research.google.com/assets/colab-badge.svg\" alt=\"Open In Colab\"/></a>"
      ]
    },
    {
      "cell_type": "code",
      "source": [
        "a = int(input())\n",
        "b= int(input())\n",
        "\n",
        "sum = a+b\n",
        "\n",
        "print(sum)"
      ],
      "metadata": {
        "id": "4frnMhK2pc2J",
        "outputId": "a84ad014-3005-4d14-bb68-aa32a401c303",
        "colab": {
          "base_uri": "https://localhost:8080/"
        }
      },
      "execution_count": null,
      "outputs": [
        {
          "output_type": "stream",
          "name": "stdout",
          "text": [
            "1\n",
            "2\n",
            "3\n"
          ]
        }
      ]
    },
    {
      "cell_type": "markdown",
      "source": [
        "5개의 정수를 입력받은 후 차례로 출력하는 프로그램을 작성하시오."
      ],
      "metadata": {
        "id": "7hFc1z3CY-le"
      }
    },
    {
      "cell_type": "code",
      "source": [
        "nums = []\n",
        "\n",
        "for i in range(5):\n",
        "  num = int(input())\n",
        "  nums.append(num)\n",
        "\n",
        "for na in nums:\n",
        "  print(na , end = ' ')\n"
      ],
      "metadata": {
        "id": "f9zcCfnhpvyc",
        "outputId": "0c6f531d-f822-4388-b79b-8571805590d0",
        "colab": {
          "base_uri": "https://localhost:8080/"
        }
      },
      "execution_count": null,
      "outputs": [
        {
          "output_type": "stream",
          "name": "stdout",
          "text": [
            "1\n",
            "2\n",
            "3\n",
            "4\n",
            "5\n",
            "1 2 3 4 5 "
          ]
        }
      ]
    },
    {
      "cell_type": "code",
      "source": [
        "numbers = []\n",
        "\n",
        "for i in range(5):\n",
        "  num = int(input('입력: '))\n",
        "  numbers.append(num)\n",
        "\n",
        "for nump in numbers:\n",
        "    print(nump, end =' ')"
      ],
      "metadata": {
        "id": "yJQZunY0ZwNX",
        "outputId": "5cdd0c20-3232-4aed-b4d3-c523ffd55a3b",
        "colab": {
          "base_uri": "https://localhost:8080/"
        }
      },
      "execution_count": null,
      "outputs": [
        {
          "output_type": "stream",
          "name": "stdout",
          "text": [
            "입력: 1\n",
            "입력: 2\n",
            "입력: 3\n",
            "입력: 4\n",
            "입력: 5\n",
            "1 2 3 4 5 "
          ]
        }
      ]
    },
    {
      "cell_type": "code",
      "source": [
        "# 알파벳 리스트 생성\n",
        "alphabet = [chr(i) for i in range(ord('A'), ord('Z') + 1)]\n",
        "\n",
        "# 역순으로 출력\n",
        "for letter in reversed(alphabet):\n",
        "    print(letter, end=\" \")\n"
      ],
      "metadata": {
        "id": "NTl1Vi6JovhF",
        "outputId": "9a974bff-536b-4c87-eed6-1656dbcea75b",
        "colab": {
          "base_uri": "https://localhost:8080/"
        }
      },
      "execution_count": null,
      "outputs": [
        {
          "output_type": "stream",
          "name": "stdout",
          "text": [
            "Z Y X W V U T S R Q P O N M L K J I H G F E D C B A "
          ]
        }
      ]
    },
    {
      "cell_type": "markdown",
      "source": [
        "정수 10개를 입력받은 후 세 번째, 다섯 번째와 마지막으로 입력받은 정수를 차례로 출력하는 프로그램을 작성하시오.\n",
        "\n"
      ],
      "metadata": {
        "id": "7kP0JD8jqY_W"
      }
    },
    {
      "cell_type": "code",
      "source": [
        "nums = []  # 정수를 저장할 리스트\n",
        "\n",
        "# 10개의 정수 입력받기\n",
        "for i in range(10):\n",
        "    num = int(input())  # input()을 사용하여 입력받음\n",
        "    nums.append(num)  # 리스트에 추가\n",
        "\n",
        "# 세 번째, 다섯 번째, 마지막 정수 출력 (줄 바꿈 없이 공백으로 구분)\n",
        "print(nums[2], nums[4], nums[-1], end=\" \")\n"
      ],
      "metadata": {
        "id": "SH-8dG6tqcCO",
        "outputId": "f543e8c3-a563-4a70-bf2d-48b7617c6c1f",
        "colab": {
          "base_uri": "https://localhost:8080/",
          "height": 373
        }
      },
      "execution_count": null,
      "outputs": [
        {
          "output_type": "error",
          "ename": "KeyboardInterrupt",
          "evalue": "Interrupted by user",
          "traceback": [
            "\u001b[0;31m---------------------------------------------------------------------------\u001b[0m",
            "\u001b[0;31mKeyboardInterrupt\u001b[0m                         Traceback (most recent call last)",
            "\u001b[0;32m<ipython-input-1-81d7b3a355d0>\u001b[0m in \u001b[0;36m<cell line: 0>\u001b[0;34m()\u001b[0m\n\u001b[1;32m      3\u001b[0m \u001b[0;31m# 10개의 정수 입력받기\u001b[0m\u001b[0;34m\u001b[0m\u001b[0;34m\u001b[0m\u001b[0m\n\u001b[1;32m      4\u001b[0m \u001b[0;32mfor\u001b[0m \u001b[0mi\u001b[0m \u001b[0;32min\u001b[0m \u001b[0mrange\u001b[0m\u001b[0;34m(\u001b[0m\u001b[0;36m10\u001b[0m\u001b[0;34m)\u001b[0m\u001b[0;34m:\u001b[0m\u001b[0;34m\u001b[0m\u001b[0;34m\u001b[0m\u001b[0m\n\u001b[0;32m----> 5\u001b[0;31m     \u001b[0mnum\u001b[0m \u001b[0;34m=\u001b[0m \u001b[0mint\u001b[0m\u001b[0;34m(\u001b[0m\u001b[0minput\u001b[0m\u001b[0;34m(\u001b[0m\u001b[0;34m)\u001b[0m\u001b[0;34m)\u001b[0m  \u001b[0;31m# input()을 사용하여 입력받음\u001b[0m\u001b[0;34m\u001b[0m\u001b[0;34m\u001b[0m\u001b[0m\n\u001b[0m\u001b[1;32m      6\u001b[0m     \u001b[0mnums\u001b[0m\u001b[0;34m.\u001b[0m\u001b[0mappend\u001b[0m\u001b[0;34m(\u001b[0m\u001b[0mnum\u001b[0m\u001b[0;34m)\u001b[0m  \u001b[0;31m# 리스트에 추가\u001b[0m\u001b[0;34m\u001b[0m\u001b[0;34m\u001b[0m\u001b[0m\n\u001b[1;32m      7\u001b[0m \u001b[0;34m\u001b[0m\u001b[0m\n",
            "\u001b[0;32m/usr/local/lib/python3.11/dist-packages/ipykernel/kernelbase.py\u001b[0m in \u001b[0;36mraw_input\u001b[0;34m(self, prompt)\u001b[0m\n\u001b[1;32m   1175\u001b[0m                 \u001b[0;34m\"raw_input was called, but this frontend does not support input requests.\"\u001b[0m\u001b[0;34m\u001b[0m\u001b[0;34m\u001b[0m\u001b[0m\n\u001b[1;32m   1176\u001b[0m             )\n\u001b[0;32m-> 1177\u001b[0;31m         return self._input_request(\n\u001b[0m\u001b[1;32m   1178\u001b[0m             \u001b[0mstr\u001b[0m\u001b[0;34m(\u001b[0m\u001b[0mprompt\u001b[0m\u001b[0;34m)\u001b[0m\u001b[0;34m,\u001b[0m\u001b[0;34m\u001b[0m\u001b[0;34m\u001b[0m\u001b[0m\n\u001b[1;32m   1179\u001b[0m             \u001b[0mself\u001b[0m\u001b[0;34m.\u001b[0m\u001b[0m_parent_ident\u001b[0m\u001b[0;34m[\u001b[0m\u001b[0;34m\"shell\"\u001b[0m\u001b[0;34m]\u001b[0m\u001b[0;34m,\u001b[0m\u001b[0;34m\u001b[0m\u001b[0;34m\u001b[0m\u001b[0m\n",
            "\u001b[0;32m/usr/local/lib/python3.11/dist-packages/ipykernel/kernelbase.py\u001b[0m in \u001b[0;36m_input_request\u001b[0;34m(self, prompt, ident, parent, password)\u001b[0m\n\u001b[1;32m   1217\u001b[0m             \u001b[0;32mexcept\u001b[0m \u001b[0mKeyboardInterrupt\u001b[0m\u001b[0;34m:\u001b[0m\u001b[0;34m\u001b[0m\u001b[0;34m\u001b[0m\u001b[0m\n\u001b[1;32m   1218\u001b[0m                 \u001b[0;31m# re-raise KeyboardInterrupt, to truncate traceback\u001b[0m\u001b[0;34m\u001b[0m\u001b[0;34m\u001b[0m\u001b[0m\n\u001b[0;32m-> 1219\u001b[0;31m                 \u001b[0;32mraise\u001b[0m \u001b[0mKeyboardInterrupt\u001b[0m\u001b[0;34m(\u001b[0m\u001b[0;34m\"Interrupted by user\"\u001b[0m\u001b[0;34m)\u001b[0m \u001b[0;32mfrom\u001b[0m \u001b[0;32mNone\u001b[0m\u001b[0;34m\u001b[0m\u001b[0;34m\u001b[0m\u001b[0m\n\u001b[0m\u001b[1;32m   1220\u001b[0m             \u001b[0;32mexcept\u001b[0m \u001b[0mException\u001b[0m\u001b[0;34m:\u001b[0m\u001b[0;34m\u001b[0m\u001b[0;34m\u001b[0m\u001b[0m\n\u001b[1;32m   1221\u001b[0m                 \u001b[0mself\u001b[0m\u001b[0;34m.\u001b[0m\u001b[0mlog\u001b[0m\u001b[0;34m.\u001b[0m\u001b[0mwarning\u001b[0m\u001b[0;34m(\u001b[0m\u001b[0;34m\"Invalid Message:\"\u001b[0m\u001b[0;34m,\u001b[0m \u001b[0mexc_info\u001b[0m\u001b[0;34m=\u001b[0m\u001b[0;32mTrue\u001b[0m\u001b[0;34m)\u001b[0m\u001b[0;34m\u001b[0m\u001b[0;34m\u001b[0m\u001b[0m\n",
            "\u001b[0;31mKeyboardInterrupt\u001b[0m: Interrupted by user"
          ]
        }
      ]
    },
    {
      "cell_type": "code",
      "source": [
        "nums = []  # 정수를 저장할 리스트\n",
        "\n",
        "# 10개의 정수를 한 줄로 입력받아 리스트로 변환\n",
        "nums = list(map(int, input().split()))\n",
        "\n",
        "# 세 번째, 다섯 번째, 마지막 정수 출력 (줄 바꿈 없이 공백으로 구분)\n",
        "if(nums)\n",
        "  print(nums[2], nums[4], nums[-1])"
      ],
      "metadata": {
        "colab": {
          "base_uri": "https://localhost:8080/"
        },
        "id": "2l1byd5FtMey",
        "outputId": "fc0df029-2482-4d5d-9433-2e6921e19dee"
      },
      "execution_count": null,
      "outputs": [
        {
          "output_type": "stream",
          "name": "stdout",
          "text": [
            "11 22 33 44 55 6 7 88 9 9 0 \n",
            "33 55 0\n"
          ]
        }
      ]
    },
    {
      "cell_type": "code",
      "source": [
        "num = 1\n",
        "\n",
        "while num <= 15:\n",
        "  print(num, end = ' ')\n",
        "  num += 1\n"
      ],
      "metadata": {
        "colab": {
          "base_uri": "https://localhost:8080/"
        },
        "id": "9TPqna7VvGBx",
        "outputId": "b5fe1071-6789-4868-a2b6-7d3e38d9c0f1"
      },
      "execution_count": null,
      "outputs": [
        {
          "output_type": "stream",
          "name": "stdout",
          "text": [
            "1 2 3 4 5 6 7 8 9 10 11 12 13 14 15 "
          ]
        }
      ]
    },
    {
      "cell_type": "markdown",
      "source": [
        "정수 변수 num을 선언하여 1을 대입한 후 1씩 증가시키면서 10까지의 누적 합을 구하는 프로그램을 while문을 이용하여 작성하고, 1부터 10까지의 합과 while문이 끝난 후의 num의 값을 출력하는 프로그램을 작성하시오.\n",
        "\n"
      ],
      "metadata": {
        "id": "zUYWiSJa0dN4"
      }
    },
    {
      "cell_type": "code",
      "source": [
        "num = 1\n",
        "sum = 0\n",
        "\n",
        "while num <= 10:\n",
        " sum = num + sum\n",
        " num += 1\n",
        "\n",
        "print('1부터 10까지의 합 =' sum)\n",
        "print(num)"
      ],
      "metadata": {
        "colab": {
          "base_uri": "https://localhost:8080/"
        },
        "id": "UTrqg9K0v8Jv",
        "outputId": "2e7939a9-ff61-4615-c2fc-2b83f281635f"
      },
      "execution_count": null,
      "outputs": [
        {
          "output_type": "stream",
          "name": "stdout",
          "text": [
            "55\n",
            "11\n"
          ]
        }
      ]
    },
    {
      "cell_type": "markdown",
      "source": [
        "점수를 입력받아 80점 이상이면 합격메시지를 그렇지 않으면 불합격 메시지를 출력하는 작업을 반복하다가 0~100점 이외의 점수가 입력되면 종료하는 프로그램을 작성하시오."
      ],
      "metadata": {
        "id": "iqlCJF1_5IfK"
      }
    },
    {
      "cell_type": "code",
      "source": [
        "while True:\n",
        "    num = int(input(\"정수를 입력하시요: \"))\n",
        "\n",
        "    if num >= 1 or num <= 100 :\n",
        "        break\n",
        "    elif num <= 80:\n",
        "        print(\"축하합니다, 합격입니다\")\n",
        "    else:\n",
        "        print(\"죄송합니다, 불합격입니다\")"
      ],
      "metadata": {
        "colab": {
          "base_uri": "https://localhost:8080/"
        },
        "id": "ncAdlsfA1RLP",
        "outputId": "d1d54c05-dab8-4224-a56e-e5fe58fca472"
      },
      "execution_count": null,
      "outputs": [
        {
          "name": "stdout",
          "output_type": "stream",
          "text": [
            "정수를 입력하시요: 1111\n"
          ]
        }
      ]
    },
    {
      "cell_type": "markdown",
      "source": [
        "영문 대문자를 입력받다가 대문자 이외의 문자가 입력되면 입력을 중단하고\n",
        "\n",
        "영문 대문자들에 대하여 1번 이상 입력된 각 문자와 그 문자의 개수를 사전 순으로 출력하는 프로그램을 작성하시오.\n",
        "\n",
        "입력되는 문자의 개수는 2개 이상 100개 이하이다."
      ],
      "metadata": {
        "id": "xA78pzXRBsj2"
      }
    },
    {
      "cell_type": "code",
      "source": [
        "# 문자 개수를 저장할 빈 딕셔너리\n",
        "char_count = {}\n",
        "\n",
        "while True:\n",
        "    char = input(\"대문자를 입력하세요 (대문자 이외 입력 시 종료): \")\n",
        "\n",
        "    # 대문자가 아니면 종료\n",
        "    if char.isupper() == False or len(char) != 1:\n",
        "        break\n",
        "\n",
        "    # 이미 입력된 문자인지 확인\n",
        "    if char in char_count:\n",
        "        char_count[char] += 1  # 개수 증가\n",
        "    else:\n",
        "        char_count[char] = 1  # 새로운 문자이면 개수를 1로 설정\n",
        "\n",
        "# 사전 순으로 문자 정렬 후 출력\n",
        "for char in sorted(char_count):  # sorted()로 사전 순 정렬\n",
        "    print(f\"{char}: {char_count[char]}\")\n"
      ],
      "metadata": {
        "id": "SNkQ3KTsBQ_X"
      },
      "execution_count": null,
      "outputs": []
    }
  ],
  "metadata": {
    "colab": {
      "provenance": [],
      "include_colab_link": true
    },
    "kernelspec": {
      "display_name": "Python 3",
      "name": "python3"
    }
  },
  "nbformat": 4,
  "nbformat_minor": 0
}
