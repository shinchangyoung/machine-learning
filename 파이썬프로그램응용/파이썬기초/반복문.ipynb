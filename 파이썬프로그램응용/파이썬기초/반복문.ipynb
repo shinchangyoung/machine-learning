{
  "nbformat": 4,
  "nbformat_minor": 0,
  "metadata": {
    "colab": {
      "provenance": [],
      "authorship_tag": "ABX9TyPpw3FPFEW8TiOVvIRg/ank",
      "include_colab_link": true
    },
    "kernelspec": {
      "name": "python3",
      "display_name": "Python 3"
    },
    "language_info": {
      "name": "python"
    }
  },
  "cells": [
    {
      "cell_type": "markdown",
      "metadata": {
        "id": "view-in-github",
        "colab_type": "text"
      },
      "source": [
        "<a href=\"https://colab.research.google.com/github/shinchangyoung/python-algorithm-solutions/blob/main/%ED%8C%8C%EC%9D%B4%EC%8D%AC%ED%94%84%EB%A1%9C%EA%B7%B8%EB%9E%A8%EC%9D%91%EC%9A%A9/%EB%B0%98%EB%B3%B5%EB%AC%B8.ipynb\" target=\"_parent\"><img src=\"https://colab.research.google.com/assets/colab-badge.svg\" alt=\"Open In Colab\"/></a>"
      ]
    },
    {
      "cell_type": "markdown",
      "source": [
        "반복문"
      ],
      "metadata": {
        "id": "1OCwn9Rb_rCF"
      }
    },
    {
      "cell_type": "code",
      "source": [
        "# for 반복문1\n",
        "test_list = ['one', 'two', 'three']\n",
        "for i in test_list:\n",
        "  x = i + '!'\n",
        "  print(x)\n",
        "print()\n",
        "\n",
        "test_list2 = [1,2,3,4,5]\n",
        "for i in test_list2:\n",
        "  x = i + 1\n",
        "  print(x)"
      ],
      "metadata": {
        "colab": {
          "base_uri": "https://localhost:8080/"
        },
        "id": "IfkJWdVz_sk_",
        "outputId": "59e923a1-33eb-494a-b736-afc24759bcef"
      },
      "execution_count": 5,
      "outputs": [
        {
          "output_type": "stream",
          "name": "stdout",
          "text": [
            "one!\n",
            "two!\n",
            "three!\n",
            "\n",
            "2\n",
            "3\n",
            "4\n",
            "5\n",
            "6\n"
          ]
        }
      ]
    },
    {
      "cell_type": "code",
      "source": [
        "# for 반복문2\n",
        "number = 0\n",
        "for score in [90, 25, 67, 45, 93]:\n",
        "  number += 1\n",
        "\n",
        "  if score > 60:\n",
        "    print(\"%d번 학생은 합격입니다.\" % number)\n",
        "  else:\n",
        "    print(\"%d번 학생은 불합격입니다.\" % number)\n",
        "print()\n",
        "\n",
        "number = 0\n",
        "for score in [90, 25, 67, 45, 93]:\n",
        "    number += 1\n",
        "\n",
        "    if score > 70:\n",
        "        print(\"%d번 학생은 합격입니다. 점수: %d점\" % (number, score))\n",
        "    else:\n",
        "        print(\"%d번 학생은 불합격입니다. 점수: %d점\" % (number, score))\n"
      ],
      "metadata": {
        "colab": {
          "base_uri": "https://localhost:8080/"
        },
        "id": "Z3F88hCoAO48",
        "outputId": "b2f7d017-a1c5-4691-a810-b63a0c18c958"
      },
      "execution_count": 16,
      "outputs": [
        {
          "output_type": "stream",
          "name": "stdout",
          "text": [
            "1번 학생은 합격입니다.\n",
            "2번 학생은 불합격입니다.\n",
            "3번 학생은 합격입니다.\n",
            "4번 학생은 불합격입니다.\n",
            "5번 학생은 합격입니다.\n",
            "\n",
            "1번 학생은 합격입니다. 점수: 90점\n",
            "2번 학생은 불합격입니다. 점수: 25점\n",
            "3번 학생은 불합격입니다. 점수: 67점\n",
            "4번 학생은 불합격입니다. 점수: 45점\n",
            "5번 학생은 합격입니다. 점수: 93점\n"
          ]
        }
      ]
    },
    {
      "cell_type": "code",
      "source": [
        "# while 문\n",
        "i = 0\n",
        "while i < 5:\n",
        "  i += 1\n",
        "  print('*' * i)"
      ],
      "metadata": {
        "colab": {
          "base_uri": "https://localhost:8080/"
        },
        "id": "xVXIYUWTAXg3",
        "outputId": "3bae65f4-eb89-44ac-de60-a188cc5eff27"
      },
      "execution_count": 17,
      "outputs": [
        {
          "output_type": "stream",
          "name": "stdout",
          "text": [
            "*\n",
            "**\n",
            "***\n",
            "****\n",
            "*****\n"
          ]
        }
      ]
    }
  ]
}
