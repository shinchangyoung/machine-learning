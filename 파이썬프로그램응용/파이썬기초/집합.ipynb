{
  "nbformat": 4,
  "nbformat_minor": 0,
  "metadata": {
    "colab": {
      "provenance": [],
      "authorship_tag": "ABX9TyPyKixzhV53QAO/exNDuf7C",
      "include_colab_link": true
    },
    "kernelspec": {
      "name": "python3",
      "display_name": "Python 3"
    },
    "language_info": {
      "name": "python"
    }
  },
  "cells": [
    {
      "cell_type": "markdown",
      "metadata": {
        "id": "view-in-github",
        "colab_type": "text"
      },
      "source": [
        "<a href=\"https://colab.research.google.com/github/shinchangyoung/python-algorithm-solutions/blob/main/%ED%8C%8C%EC%9D%B4%EC%8D%AC%ED%94%84%EB%A1%9C%EA%B7%B8%EB%9E%A8%EC%9D%91%EC%9A%A9/%EC%A7%91%ED%95%A9.ipynb\" target=\"_parent\"><img src=\"https://colab.research.google.com/assets/colab-badge.svg\" alt=\"Open In Colab\"/></a>"
      ]
    },
    {
      "cell_type": "markdown",
      "source": [
        "집합"
      ],
      "metadata": {
        "id": "4inoiNp_515M"
      }
    },
    {
      "cell_type": "code",
      "source": [
        "# 집합 만들기\n",
        "s1 = {1, 2, 'a', 5}\n",
        "s2 = set([1, 2, 3, 4, 5, 6])\n",
        "print(s2)\n",
        "s3 = set([4, 5, 6, 7, 8, 9])\n",
        "print(s3)\n",
        "s4 = set([3, 5, 6, 9, 12, 11])\n",
        "print(s4)"
      ],
      "metadata": {
        "colab": {
          "base_uri": "https://localhost:8080/"
        },
        "id": "21SyQIP35915",
        "outputId": "d4a0bb1d-e462-4e53-fe8d-fe4d72e54173"
      },
      "execution_count": null,
      "outputs": [
        {
          "output_type": "stream",
          "name": "stdout",
          "text": [
            "{1, 2, 3, 4, 5, 6}\n",
            "{4, 5, 6, 7, 8, 9}\n",
            "{3, 5, 6, 9, 11, 12}\n"
          ]
        }
      ]
    },
    {
      "cell_type": "code",
      "source": [
        "# 교집합 연산\n",
        "print(s2 & s3)\n",
        "print(s2.intersection(s3))\n",
        "print()\n",
        "print(s2 & s4)\n",
        "print(s2.intersection(s4))\n",
        "print(s3.intersection(s4))"
      ],
      "metadata": {
        "colab": {
          "base_uri": "https://localhost:8080/"
        },
        "id": "qYh5p2VR6G8V",
        "outputId": "455a79de-c753-4916-d195-11d9d37490a7"
      },
      "execution_count": null,
      "outputs": [
        {
          "output_type": "stream",
          "name": "stdout",
          "text": [
            "{4, 5, 6}\n",
            "{4, 5, 6}\n",
            "\n",
            "{3, 5, 6}\n",
            "{3, 5, 6}\n",
            "{9, 5, 6}\n"
          ]
        }
      ]
    },
    {
      "cell_type": "code",
      "source": [
        "# 합집합 연산\n",
        "print(s2 | s3)\n",
        "print(s2.union(s3))\n",
        "print()\n",
        "print(s3 | s4)\n",
        "print(s3.union(s4))\n",
        "\n"
      ],
      "metadata": {
        "colab": {
          "base_uri": "https://localhost:8080/"
        },
        "id": "8vMDc3a06xn8",
        "outputId": "8457568d-76bc-43ec-96ab-64506a1b5e09"
      },
      "execution_count": null,
      "outputs": [
        {
          "output_type": "stream",
          "name": "stdout",
          "text": [
            "{1, 2, 3, 4, 5, 6, 7, 8, 9}\n",
            "{1, 2, 3, 4, 5, 6, 7, 8, 9}\n",
            "\n",
            "{3, 4, 5, 6, 7, 8, 9, 11, 12}\n",
            "{3, 4, 5, 6, 7, 8, 9, 11, 12}\n"
          ]
        }
      ]
    },
    {
      "cell_type": "code",
      "source": [
        "# 집합 만들기\n",
        "s1 = {1, 2, 'a', 5}\n",
        "s2 = set([1, 2, 3, 4, 5, 6])\n",
        "print(s2)\n",
        "s3 = set([4, 5, 6, 7, 8, 9])\n",
        "print(s3)\n",
        "s4 = set([3, 5, 6, 9, 12, 11])\n",
        "print(s4)"
      ],
      "metadata": {
        "colab": {
          "base_uri": "https://localhost:8080/"
        },
        "id": "eq3g9d8T7Rbg",
        "outputId": "7ea685f1-786e-460d-ee31-1e35d916217e"
      },
      "execution_count": null,
      "outputs": [
        {
          "output_type": "stream",
          "name": "stdout",
          "text": [
            "{1, 2, 3, 4, 5, 6}\n",
            "{4, 5, 6, 7, 8, 9}\n",
            "{3, 5, 6, 9, 11, 12}\n"
          ]
        }
      ]
    },
    {
      "cell_type": "code",
      "source": [
        "# 차집합 연산\n",
        "print(s2 - s3)\n",
        "#앞에 차집합에 의해 빠진 집합을 출력\n",
        "print(s2.difference(s3))\n",
        "#뒤에 차집합에 의해 빠진 집합을 출력\n",
        "print(s3.difference(s2))\n",
        "print()\n",
        "\n",
        "# 원소 한 개 추가\n",
        "s2.add(7)\n",
        "print(s2)\n",
        "print()\n",
        "\n",
        "# 원소 여러 개 추가\n",
        "s2.update([6, 7, 8, 9, 10])\n",
        "print(s2)\n",
        "print()\n",
        "\n",
        "# 특정 원소 제거\n",
        "s2.remove(7)\n",
        "print(s2)\n"
      ],
      "metadata": {
        "colab": {
          "base_uri": "https://localhost:8080/"
        },
        "id": "B0zG0OQw7HEd",
        "outputId": "a1dce275-cf34-4170-e179-a4b4b0e0f3bb"
      },
      "execution_count": null,
      "outputs": [
        {
          "output_type": "stream",
          "name": "stdout",
          "text": [
            "{1, 2, 3}\n",
            "{1, 2, 3}\n",
            "{8, 9, 7}\n",
            "\n",
            "{1, 2, 3, 4, 5, 6, 7}\n",
            "\n",
            "{1, 2, 3, 4, 5, 6, 7, 8, 9, 10}\n",
            "\n",
            "{1, 2, 3, 4, 5, 6, 8, 9, 10}\n"
          ]
        }
      ]
    }
  ]
}
