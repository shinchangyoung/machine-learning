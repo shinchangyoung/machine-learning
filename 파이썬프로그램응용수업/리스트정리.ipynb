{
  "cells": [
    {
      "cell_type": "markdown",
      "metadata": {
        "id": "view-in-github",
        "colab_type": "text"
      },
      "source": [
        "<a href=\"https://colab.research.google.com/github/shinchangyoung/python-algorithm-solutions/blob/main/Colaboratory%EC%97%90_%EC%98%A4%EC%8B%A0_%EA%B2%83%EC%9D%84_%ED%99%98%EC%98%81%ED%95%A9%EB%8B%88%EB%8B%A4.ipynb\" target=\"_parent\"><img src=\"https://colab.research.google.com/assets/colab-badge.svg\" alt=\"Open In Colab\"/></a>"
      ]
    },
    {
      "cell_type": "markdown",
      "source": [],
      "metadata": {
        "id": "tXdBoh7QJQ4F"
      }
    },
    {
      "cell_type": "markdown",
      "source": [
        "리스트"
      ],
      "metadata": {
        "id": "ezbxKfAUJSaC"
      }
    },
    {
      "cell_type": "code",
      "source": [
        "a=[1,2,[3,5],['toyo','nori','hiro']]\n",
        "print(a[3][-2])\n",
        "print(a[3][-1])"
      ],
      "metadata": {
        "colab": {
          "base_uri": "https://localhost:8080/"
        },
        "id": "GWPaz3UkJuva",
        "outputId": "c3f4bf5c-263f-41de-8241-383714ef4aa5"
      },
      "execution_count": 6,
      "outputs": [
        {
          "output_type": "stream",
          "name": "stdout",
          "text": [
            "nori\n",
            "hiro\n"
          ]
        }
      ]
    },
    {
      "cell_type": "markdown",
      "source": [
        "리스트 슬라이싱"
      ],
      "metadata": {
        "id": "BHyAAxAEKxI1"
      }
    },
    {
      "cell_type": "code",
      "source": [
        "#0이상 3미만\n",
        "print(a[0:3])\n"
      ],
      "metadata": {
        "colab": {
          "base_uri": "https://localhost:8080/"
        },
        "id": "s-rBfA__KJVQ",
        "outputId": "d2f8dd40-e0e1-4bc9-ae99-9325e5a9a145"
      },
      "execution_count": 8,
      "outputs": [
        {
          "output_type": "stream",
          "name": "stdout",
          "text": [
            "[1, 2, [3, 5]]\n"
          ]
        }
      ]
    },
    {
      "cell_type": "code",
      "source": [
        "# 리스트 만들기\n",
        "a = [1, 2, 3]\n",
        "b = ['Life', 'is', 'too', 'short']\n",
        "c = [1, 2, 'Life', 'is']\n",
        "d = [1, 2, [3, 4], ['Life', 'is']]\n",
        "\n",
        "# 리스트 연결\n",
        "# b배열의 0인덱스와 문자열을 연결\n",
        "print(a + b)\n",
        "print(b[0] + \" hi~ ^^;\")\n",
        "print(b[2] + \" hi~ ^^;\")\n",
        "print(c[0] + 1)\n",
        "#print(b[0] + 3)\n",
        "#문자열과 문자열끼리는 연결이 가능하나 문자열 + 숫자로는 연결이 불가능"
      ],
      "metadata": {
        "colab": {
          "base_uri": "https://localhost:8080/"
        },
        "id": "MveUVFmjLyfj",
        "outputId": "6b17b201-3c5d-4acf-8d31-f9600985b5cc"
      },
      "execution_count": 14,
      "outputs": [
        {
          "output_type": "stream",
          "name": "stdout",
          "text": [
            "[1, 2, 3, 'Life', 'is', 'too', 'short']\n",
            "Life hi~ ^^;\n",
            "too hi~ ^^;\n",
            "2\n"
          ]
        }
      ]
    },
    {
      "cell_type": "code",
      "source": [
        "# 리스트 반복\n",
        "a * 4\n",
        "b * 2\n",
        "d * 2"
      ],
      "metadata": {
        "colab": {
          "base_uri": "https://localhost:8080/"
        },
        "id": "Zs2MZANQM67f",
        "outputId": "70071c43-83de-4885-a561-69deb7bf5c85"
      },
      "execution_count": 21,
      "outputs": [
        {
          "output_type": "execute_result",
          "data": {
            "text/plain": [
              "[1, 2, [3, 4], ['Life', 'is'], 1, 2, [3, 4], ['Life', 'is']]"
            ]
          },
          "metadata": {},
          "execution_count": 21
        }
      ]
    },
    {
      "cell_type": "code",
      "source": [
        "# 리스트 만들기\n",
        "a = [1, 2, 3]\n",
        "b = ['Life', 'is', 'too', 'short']\n",
        "c = [1, 2, 'Life', 'is']\n",
        "d = [1, 2, [3, 4], ['Life', 'is']]\n",
        "\n",
        "a[1] = 33\n",
        "print(a)\n",
        "\n",
        "# a의 초기화 되어있는 배열의 수는 0부터 2까지 밖에 없으면 추가 되지 않음\n",
        "#a[3] = 12\n",
        "#print(a)\n",
        "\n",
        "#0부터 1미만의 인덱스 즉 인덱스 0릏 변경\n",
        "a[0:1] = ['t','d','g']\n",
        "print(a)\n",
        "\n",
        "b[-2] = [1,3,4]\n",
        "print(b)\n",
        "\n",
        "b[-2] = (2,3,4)\n",
        "print(b)\n",
        "\n",
        "b[-2] = 2\n",
        "print(b)\n",
        "\n",
        "d[-2] = 'toyoaki'\n",
        "print(d)\n",
        "\n",
        "d[-1][0] = 'toyoaki'\n",
        "print(d)\n",
        "\n",
        "d[3][1] = 'toyoaki'\n",
        "print(d)\n",
        "\n"
      ],
      "metadata": {
        "colab": {
          "base_uri": "https://localhost:8080/"
        },
        "id": "l1I5cmK9PNgd",
        "outputId": "f7d7b883-3384-4b40-bb59-82e8dbd96477"
      },
      "execution_count": 37,
      "outputs": [
        {
          "output_type": "stream",
          "name": "stdout",
          "text": [
            "[1, 33, 3]\n",
            "['t', 'd', 'g', 33, 3]\n",
            "['Life', 'is', [1, 3, 4], 'short']\n",
            "['Life', 'is', (2, 3, 4), 'short']\n",
            "['Life', 'is', 2, 'short']\n",
            "[1, 2, 'toyoaki', ['Life', 'is']]\n",
            "[1, 2, 'toyoaki', ['toyoaki', 'is']]\n",
            "[1, 2, 'toyoaki', ['toyoaki', 'toyoaki']]\n"
          ]
        }
      ]
    },
    {
      "cell_type": "markdown",
      "source": [
        "리스트 수정"
      ],
      "metadata": {
        "id": "QBqzEAY0Tv7z"
      }
    },
    {
      "cell_type": "code",
      "source": [
        "# 리스트 만들기\n",
        "a = [1, 2, 3]\n",
        "b = ['Life', 'is', 'too', 'short']\n",
        "c = [1, 2, 'Life', 'is']\n",
        "d = [1, 2, [3, 4], ['Life', 'is']]\n",
        "\n",
        "#리스트 삭제\n",
        "#리스트 삭제는 del\n",
        "del a[-1]\n",
        "del b[-2]\n",
        "print(a)\n",
        "print(b)\n",
        "\n",
        "# 원소 추가\n",
        "# 원소 추가 append\n",
        "a.append('toyo')\n",
        "print(a)\n",
        "\n",
        "# 원소 정렬\n",
        "#sort\n",
        "b.sort()\n",
        "print(b)\n",
        "#타입이 다른 원소는 정렬이 불가능\n",
        "#c.sort()\n",
        "#print(d)\n",
        "\n",
        "\n",
        "# 원소 순서 뒤집기\n",
        "#reverse\n",
        "a = [3, 4, 1, 9]\n",
        "a.reverse()\n",
        "print(a)\n",
        "\n",
        "\n",
        "# 원소 위치 확인\n",
        "#index\n",
        "a.index(9)\n",
        "print(a)\n",
        "\n",
        "\n",
        "# 원소 삽입\n",
        "#insert\n",
        "a.insert(0, 99)\n",
        "print(a)\n",
        "a.insert(1,100)\n",
        "print(a)\n",
        "\n",
        "\n",
        "\n"
      ],
      "metadata": {
        "colab": {
          "base_uri": "https://localhost:8080/"
        },
        "id": "qygWUBu3Tyj-",
        "outputId": "327b6669-ae4b-48ae-95dc-2ef239084ebd"
      },
      "execution_count": 56,
      "outputs": [
        {
          "output_type": "stream",
          "name": "stdout",
          "text": [
            "[1, 2]\n",
            "['Life', 'is', 'short']\n",
            "[1, 2, 'toyo']\n",
            "['Life', 'is', 'short']\n",
            "[9, 1, 4, 3]\n",
            "[9, 1, 4, 3]\n",
            "[99, 9, 1, 4, 3]\n",
            "[99, 100, 9, 1, 4, 3]\n"
          ]
        }
      ]
    },
    {
      "cell_type": "code",
      "source": [
        "a = [1,2,3,4,5]\n",
        "\n",
        "a.insert(3,10)\n",
        "a\n",
        "a.reverse()\n",
        "a\n",
        "a.index(4)\n"
      ],
      "metadata": {
        "id": "38ia8n_8Wup1"
      },
      "execution_count": 65,
      "outputs": []
    },
    {
      "cell_type": "markdown",
      "source": [
        "원소 삭제"
      ],
      "metadata": {
        "id": "JQfKSyIWXbbG"
      }
    },
    {
      "cell_type": "code",
      "source": [
        "a = [1,2,3,4,5]\n",
        "#원소 삭제\n",
        "a.remove(3)\n",
        "print(a)\n",
        "\n",
        "#리스트 삭제\n",
        "del a[1]\n",
        "a"
      ],
      "metadata": {
        "colab": {
          "base_uri": "https://localhost:8080/"
        },
        "id": "Att_IrSiXdkb",
        "outputId": "e2fa4ec4-a0da-4973-f7a5-78994d29221c"
      },
      "execution_count": 69,
      "outputs": [
        {
          "output_type": "stream",
          "name": "stdout",
          "text": [
            "[1, 2, 4, 5]\n"
          ]
        },
        {
          "output_type": "execute_result",
          "data": {
            "text/plain": [
              "[1, 4, 5]"
            ]
          },
          "metadata": {},
          "execution_count": 69
        }
      ]
    },
    {
      "cell_type": "markdown",
      "source": [],
      "metadata": {
        "id": "d4cUOF4pWO7Q"
      }
    }
  ],
  "metadata": {
    "colab": {
      "name": "Colaboratory에 오신 것을 환영합니다",
      "toc_visible": true,
      "provenance": [],
      "include_colab_link": true
    },
    "kernelspec": {
      "display_name": "Python 3",
      "name": "python3"
    }
  },
  "nbformat": 4,
  "nbformat_minor": 0
}
