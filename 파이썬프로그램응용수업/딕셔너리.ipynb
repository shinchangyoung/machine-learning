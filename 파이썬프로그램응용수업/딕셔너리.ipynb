{
  "nbformat": 4,
  "nbformat_minor": 0,
  "metadata": {
    "colab": {
      "provenance": [],
      "authorship_tag": "ABX9TyMg/tnPpkBxs0ENuTzmNB/J",
      "include_colab_link": true
    },
    "kernelspec": {
      "name": "python3",
      "display_name": "Python 3"
    },
    "language_info": {
      "name": "python"
    }
  },
  "cells": [
    {
      "cell_type": "markdown",
      "metadata": {
        "id": "view-in-github",
        "colab_type": "text"
      },
      "source": [
        "<a href=\"https://colab.research.google.com/github/shinchangyoung/python-algorithm-solutions/blob/main/%ED%8C%8C%EC%9D%B4%EC%8D%AC%ED%94%84%EB%A1%9C%EA%B7%B8%EB%9E%A8%EC%9D%91%EC%9A%A9%EC%88%98%EC%97%85/Untitled2.ipynb\" target=\"_parent\"><img src=\"https://colab.research.google.com/assets/colab-badge.svg\" alt=\"Open In Colab\"/></a>"
      ]
    },
    {
      "cell_type": "markdown",
      "source": [
        "딕셔너리"
      ],
      "metadata": {
        "id": "b9HEbLvttneN"
      }
    },
    {
      "cell_type": "code",
      "source": [
        "# 딕셔너리 만들기\n",
        "dic = {'firstName':'MAkiHARA', 'phone':'01012345678', 'birth':'0907'}\n",
        "\n",
        "# 원소 추가\n",
        "dic[1] = 'A'\n",
        "print(dic)\n",
        "\n",
        "dic['pet'] = 'tan'\n",
        "print(dic)\n",
        "\n",
        "dic['lastName'] = 'toyoaki'\n",
        "print(dic)\n",
        "\n",
        "# 원소 삭제\n",
        "del dic[1]\n",
        "print(dic)\n",
        "print()\n",
        "\n",
        "# 원소의 value 구하기\n",
        "print(dic['pet'])\n",
        "print(dic['lastName'])\n",
        "print(dic['lastName'] + \"님의 강아지 이름은 \" + dic['lastName'])\n",
        "print()\n",
        "\n"
      ],
      "metadata": {
        "colab": {
          "base_uri": "https://localhost:8080/"
        },
        "id": "xgRdHeJktppq",
        "outputId": "ae5416d6-be6c-4c94-b843-0c5d0de882c5"
      },
      "execution_count": 9,
      "outputs": [
        {
          "output_type": "stream",
          "name": "stdout",
          "text": [
            "{'firstName': 'MAkiHARA', 'phone': '01012345678', 'birth': '0907', 1: 'A'}\n",
            "{'firstName': 'MAkiHARA', 'phone': '01012345678', 'birth': '0907', 1: 'A', 'pet': 'tan'}\n",
            "{'firstName': 'MAkiHARA', 'phone': '01012345678', 'birth': '0907', 1: 'A', 'pet': 'tan', 'lastName': 'toyoaki'}\n",
            "{'firstName': 'MAkiHARA', 'phone': '01012345678', 'birth': '0907', 'pet': 'tan', 'lastName': 'toyoaki'}\n",
            "\n",
            "tan\n",
            "toyoaki\n",
            "toyoaki님의 강아지 이름은 toyoaki\n",
            "\n",
            "\n",
            "{}\n",
            "\n"
          ]
        }
      ]
    },
    {
      "cell_type": "code",
      "source": [
        "# 딕셔너리 만들기\n",
        "dic = {'firstName':'MAkiHARA', 'phone':'01012345678', 'birth':'0907'}\n",
        "\n",
        "# key의 리스트 만들기\n",
        "print(dic.keys())\n",
        "print(list(dic.keys()))\n",
        "print()\n",
        "\n",
        "\n",
        "# value의 리스트 만들기\n",
        "print(dic.values())\n",
        "print(list(dic.values()))\n",
        "print()\n",
        "\n",
        "# key, value 쌍 구하기\n",
        "print(dic.items())\n",
        "print()\n",
        "\n",
        "\n",
        "# 원소 삭제\n",
        "dic.clear()\n",
        "print(dic)\n",
        "print()"
      ],
      "metadata": {
        "colab": {
          "base_uri": "https://localhost:8080/"
        },
        "id": "rYvbppl5v_xG",
        "outputId": "7a951845-4862-4acf-c424-9fc2ce093401"
      },
      "execution_count": 14,
      "outputs": [
        {
          "output_type": "stream",
          "name": "stdout",
          "text": [
            "dict_keys(['firstName', 'phone', 'birth'])\n",
            "['firstName', 'phone', 'birth']\n",
            "\n",
            "dict_values(['MAkiHARA', '01012345678', '0907'])\n",
            "['MAkiHARA', '01012345678', '0907']\n",
            "\n",
            "dict_items([('firstName', 'MAkiHARA'), ('phone', '01012345678'), ('birth', '0907')])\n",
            "\n",
            "{}\n",
            "\n"
          ]
        }
      ]
    }
  ]
}
